{
  "nbformat": 4,
  "nbformat_minor": 0,
  "metadata": {
    "colab": {
      "provenance": [],
      "authorship_tag": "ABX9TyPDGwg1WPP/1cGYYGafG2Ui",
      "include_colab_link": true
    },
    "kernelspec": {
      "name": "python3",
      "display_name": "Python 3"
    },
    "language_info": {
      "name": "python"
    }
  },
  "cells": [
    {
      "cell_type": "markdown",
      "metadata": {
        "id": "view-in-github",
        "colab_type": "text"
      },
      "source": [
        "<a href=\"https://colab.research.google.com/github/saranyatamizh/Python_Assignment/blob/main/Assessment.ipynb\" target=\"_parent\"><img src=\"https://colab.research.google.com/assets/colab-badge.svg\" alt=\"Open In Colab\"/></a>"
      ]
    },
    {
      "cell_type": "markdown",
      "source": [
        "#Problem Statement 1:\n",
        "####Write a program that computes the net amount of a bank account based on a transaction log from console input. The transaction log / sample input is in the format as shown below:\n",
        "Input\n",
        "log_message = D:100 W:10\n",
        "Output\n",
        "90\n",
        "Input\n",
        "Log_message = D:100 W:200 D:400\n",
        "Output\n",
        "300 (100 - 200 + 400 = 300)"
      ],
      "metadata": {
        "id": "bAENALplSGRp"
      }
    },
    {
      "cell_type": "code",
      "execution_count": 3,
      "metadata": {
        "colab": {
          "base_uri": "https://localhost:8080/"
        },
        "id": "Nhba_5TrSCfr",
        "outputId": "5441156a-9edd-4b4b-b066-f098dbe1ae02"
      },
      "outputs": [
        {
          "output_type": "stream",
          "name": "stdout",
          "text": [
            "Log_Message= D:100 W:30 D:400\n",
            "470\n"
          ]
        }
      ],
      "source": [
        "log= input(\"Log_Message= \")\n",
        "log_list=log.split()\n",
        "log_dict={}\n",
        "\n",
        "deposit=0\n",
        "withdraw=0\n",
        "for i in log_list:\n",
        "  if i.startswith(\"D\"):\n",
        "    dep=i.split(\":\")\n",
        "    deposit+=int(dep[1])\n",
        "  else:\n",
        "    wit=i.split(\":\")\n",
        "    withdraw+=int(wit[1])\n",
        "\n",
        "Balance=deposit-withdraw\n",
        "print(Balance)"
      ]
    },
    {
      "cell_type": "markdown",
      "source": [
        "#Problem Statment 2:\n",
        "####Write a program that prompts the user to input number of calls and calculate the monthly telephone bills as per the following rule:\n",
        "● Minimum Rs. 200 for up to 100 calls.\n",
        "● Plus Rs. 0.60 per call for next 50 calls.\n",
        "● Plus Rs. 0.50 per call for next 50 calls.\n",
        "● Plus Rs. 0.40 per call for any call beyond 200 calls."
      ],
      "metadata": {
        "id": "bK-h0E76S3Z0"
      }
    },
    {
      "cell_type": "code",
      "source": [
        "call_no=int(input(\"Enter the number of calls in the month \"))\n",
        "if call_no<=100:\n",
        "  bill=200\n",
        "elif call_no<=150:\n",
        "  bill=200+(0.60*(call_no-100))\n",
        "elif call_no>150 and call_no<=200:\n",
        "  bill=200+(0.50*(call_no-150))\n",
        "else:\n",
        "  bill=200+(0.40*(call_no-200))\n",
        "print(\"Monthly Telephone bill for \" f\"{call_no}\" \" calls is Rs.\" f\"{bill}\")\n",
        "\n"
      ],
      "metadata": {
        "colab": {
          "base_uri": "https://localhost:8080/"
        },
        "id": "5NcYG-YaS_oN",
        "outputId": "e4e23786-f40f-459f-d5e1-6aab5951ea79"
      },
      "execution_count": 4,
      "outputs": [
        {
          "output_type": "stream",
          "name": "stdout",
          "text": [
            "Enter the number of calls in the month 79\n",
            "Monthly Telephone bill for 79 calls is Rs.200\n"
          ]
        }
      ]
    },
    {
      "cell_type": "markdown",
      "source": [
        "#Problem Statement 3:\n",
        "####Write a Python function to sum all the numbers in a list.\n",
        "Sample List : [8, 2, 3, 0, 7]\n",
        "Expected Output : 20\n",
        "Explanation:\n",
        "Summation should like 8+2+3+0+7 = 20"
      ],
      "metadata": {
        "id": "PVTmWDp3S_3m"
      }
    },
    {
      "cell_type": "code",
      "source": [
        "L=[8,3,20,50,80]\n",
        "print(sum(L))"
      ],
      "metadata": {
        "colab": {
          "base_uri": "https://localhost:8080/"
        },
        "id": "Pys1G-njTf_6",
        "outputId": "4e03090a-4931-421a-b5b6-23483b941a92"
      },
      "execution_count": 5,
      "outputs": [
        {
          "output_type": "stream",
          "name": "stdout",
          "text": [
            "161\n"
          ]
        }
      ]
    },
    {
      "cell_type": "markdown",
      "source": [
        "#Problem Statement 4:\n",
        "####Write a Python program to reverse a string.\n",
        "﻿Sample String : \"1234abcd\"\n",
        "Expected Output : \"dcba4321\"\n",
        "\n"
      ],
      "metadata": {
        "id": "W2eE0zhxTgiN"
      }
    },
    {
      "cell_type": "code",
      "source": [
        "S=input(\"Enter string: \")\n",
        "print(\"Reversed String:\",S[::-1])"
      ],
      "metadata": {
        "colab": {
          "base_uri": "https://localhost:8080/"
        },
        "id": "V-QUm3oivIWW",
        "outputId": "c08b424e-7e1b-478f-f7a6-6b0495bb35f0"
      },
      "execution_count": 6,
      "outputs": [
        {
          "output_type": "stream",
          "name": "stdout",
          "text": [
            "Enter string: big data training\n",
            "Reversed String: gniniart atad gib\n"
          ]
        }
      ]
    },
    {
      "cell_type": "markdown",
      "source": [
        "#Problem Statement 5:\n",
        "####Write a Python function that accepts a string and calculates the number of uppercase letters and lower case letters.\n",
        "Sample String : 'The quick Brow Fox'\n",
        "Expected Output :\n",
        "No. of Upper case characters : 3\n",
        "No. of Lower case Characters : 12\n"
      ],
      "metadata": {
        "id": "9vfGJYV7vIs6"
      }
    },
    {
      "cell_type": "code",
      "source": [
        "def case_identifier(Sent):\n",
        "  u,l=0,0\n",
        "\n",
        "  for i in Sent:\n",
        "      if i.isupper():\n",
        "        u+=1\n",
        "      elif i.islower():\n",
        "        l+=1\n",
        "      else:\n",
        "        pass\n",
        "  return u,l\n",
        "u,l=case_identifier(input(\"Enter a sentence: \"))\n",
        "print(\"No.of Upper case Characters: \",u)\n",
        "print(\"No of Lower case Characters: \",l)\n"
      ],
      "metadata": {
        "colab": {
          "base_uri": "https://localhost:8080/"
        },
        "id": "AcEJPbB3vXdL",
        "outputId": "d3bd2739-2dcb-4b57-f4dc-ce1a0651be88"
      },
      "execution_count": 13,
      "outputs": [
        {
          "output_type": "stream",
          "name": "stdout",
          "text": [
            "Enter a sentence: Feeling Great To BE Part of Maveric\n",
            "No.of Upper case Characters:  7\n",
            "No of Lower case Characters:  22\n"
          ]
        }
      ]
    },
    {
      "cell_type": "markdown",
      "source": [
        "# Problem Statement 6:\n",
        "####Challenge 1: Square Numbers and Return Their Sum"
      ],
      "metadata": {
        "id": "1m_3FigBvX6o"
      }
    },
    {
      "cell_type": "code",
      "source": [
        "class point:\n",
        "\n",
        "  def __init__(self,x,y,z):\n",
        "    self.x=x\n",
        "    self.y=y\n",
        "    self.z=z\n",
        "\n",
        "  def sqsum(self):\n",
        "    self.sq_sum=self.x**2+self.y**2+self.z**2\n",
        "    print(f\"Sum of squares of given number: {self.sq_sum}\")\n",
        "x=point(10,20,10)\n",
        "x.sqsum()\n",
        "\n"
      ],
      "metadata": {
        "colab": {
          "base_uri": "https://localhost:8080/"
        },
        "id": "0Q811bPSGxOs",
        "outputId": "0d6d7a3e-ec37-4e7c-9e9e-87302d70bdc8"
      },
      "execution_count": 8,
      "outputs": [
        {
          "output_type": "stream",
          "name": "stdout",
          "text": [
            "Sum of squares of given number: 600\n"
          ]
        }
      ]
    },
    {
      "cell_type": "markdown",
      "source": [
        "#### Challenge 2: Implement a Calculator Class\n"
      ],
      "metadata": {
        "id": "2CjiR14VGyiV"
      }
    },
    {
      "cell_type": "code",
      "source": [
        "class calculator:\n",
        "  def __init__(self,num1,num2):\n",
        "    self.num1=num1\n",
        "    self.num2=num2\n",
        "  def add(self):\n",
        "    print(self.num1+self.num2)\n",
        "  def subtract(self):\n",
        "    print(self.num2-self.num1)\n",
        "  def multiply(self):\n",
        "    print(self.num1*self.num2)\n",
        "  def divide(self):\n",
        "    print(self.num2/self.num1)\n",
        "\n",
        "obj=calculator(10,20)\n",
        "obj.add()\n",
        "obj.subtract()\n",
        "obj.multiply()\n",
        "obj.divide()"
      ],
      "metadata": {
        "id": "SUXmCw0UG4gB",
        "colab": {
          "base_uri": "https://localhost:8080/"
        },
        "outputId": "c5bd893a-b6f6-4056-adf1-2a8d568caa73"
      },
      "execution_count": 9,
      "outputs": [
        {
          "output_type": "stream",
          "name": "stdout",
          "text": [
            "30\n",
            "10\n",
            "200\n",
            "2.0\n"
          ]
        }
      ]
    },
    {
      "cell_type": "markdown",
      "source": [
        "#### Challenge 3: Implement the Complete Student Class"
      ],
      "metadata": {
        "id": "T2qW6OcoG4yt"
      }
    },
    {
      "cell_type": "code",
      "source": [
        "class student:\n",
        "  name=\"Saranya\"\n",
        "  rollNumber=100\n",
        "  def getName(self):\n",
        "    print(f\"Getting the Name: {self.name}\")\n",
        "  def setName(self,name):\n",
        "    self.name=name\n",
        "    print(f\"Setting the name as {name}\")\n",
        "  def getrollNumber(self):\n",
        "    print(f\"Getting the rollnumber: {self.rollNumber}\")\n",
        "  def setrollNumber(self,rollNumber):\n",
        "    self.rollNumber=rollNumber\n",
        "    print(f\"Setting the RollNumber as:{rollNumber}\")\n",
        "\n",
        "std=student()\n",
        "std.getName()\n",
        "std.setName(\"Suganya\")\n",
        "std.getName()\n",
        "std.getrollNumber()\n",
        "std.setrollNumber(20)\n",
        "std.getrollNumber()\n"
      ],
      "metadata": {
        "id": "Z9MFnGVqG-mo",
        "colab": {
          "base_uri": "https://localhost:8080/"
        },
        "outputId": "0bdb10d4-f92e-41c4-8114-974123eed041"
      },
      "execution_count": 10,
      "outputs": [
        {
          "output_type": "stream",
          "name": "stdout",
          "text": [
            "Getting the Name: Saranya\n",
            "Setting the name as Suganya\n",
            "Getting the Name: Suganya\n",
            "Getting the rollnumber: 100\n",
            "Setting the RollNumber as:20\n",
            "Getting the rollnumber: 20\n"
          ]
        }
      ]
    },
    {
      "cell_type": "markdown",
      "source": [
        "#### Challenge 4: Implement a Banking Account"
      ],
      "metadata": {
        "id": "3QbVPM32G_QR"
      }
    },
    {
      "cell_type": "code",
      "source": [
        "class Account:\n",
        "\n",
        "  def __init__(self,title=None,Balance=0):\n",
        "    self.title=title\n",
        "    self.Balance=Balance\n",
        "\n",
        "  def getBalance(self):\n",
        "    print(f\"Current Balance is : {self.Balance}\")\n",
        "  def deposit(self,Amount):\n",
        "    self.Balance+=Amount\n",
        "\n",
        "  def withdrawal(self,Amount):\n",
        "    self.Balance-=Amount\n",
        "\n",
        "\n",
        "class Savings_Account(Account):\n",
        "  def __init__(self,title=None,Balance=0,interestRate=0):\n",
        "    super().__init__(title,Balance)\n",
        "    self.interestRate=interestRate\n",
        "\n",
        "  def interestamount(self):\n",
        "    print(f\"Interest amount is : {(self.interestRate*self.Balance)/100}\")\n",
        "\n",
        "obj1=Savings_Account(\"Ashish\",5000,10)\n",
        "obj1.deposit(200)\n",
        "obj1.interestamount()\n"
      ],
      "metadata": {
        "id": "lFXRzhKLHEUy",
        "colab": {
          "base_uri": "https://localhost:8080/"
        },
        "outputId": "982696f5-714a-4b5f-e7d6-a530699a655f"
      },
      "execution_count": 11,
      "outputs": [
        {
          "output_type": "stream",
          "name": "stdout",
          "text": [
            "Interest amount is : 520.0\n"
          ]
        }
      ]
    },
    {
      "cell_type": "markdown",
      "source": [
        "#### Challenge 5: Handling a Bank Account"
      ],
      "metadata": {
        "id": "RkGQkv0-HE6a"
      }
    },
    {
      "cell_type": "code",
      "source": [
        "obj=Savings_Account(\"Arjun\",5000,2)\n",
        "obj.getBalance()\n",
        "obj.deposit(200)\n",
        "obj.getBalance()\n",
        "obj.withdrawal(1000)\n",
        "obj.getBalance()\n",
        "obj.interestamount()\n",
        "obj.deposit(500)\n",
        "obj.getBalance()\n",
        "obj.deposit(50000)\n",
        "obj.interestamount()\n",
        "obj.getBalance()"
      ],
      "metadata": {
        "id": "evB-iwiGHJzR",
        "colab": {
          "base_uri": "https://localhost:8080/"
        },
        "outputId": "e590732d-e811-4dfb-909d-d5bb0d435ebe"
      },
      "execution_count": 12,
      "outputs": [
        {
          "output_type": "stream",
          "name": "stdout",
          "text": [
            "Current Balance is : 5000\n",
            "Current Balance is : 5200\n",
            "Current Balance is : 4200\n",
            "Interest amount is : 84.0\n",
            "Current Balance is : 4700\n",
            "Interest amount is : 1094.0\n",
            "Current Balance is : 54700\n"
          ]
        }
      ]
    },
    {
      "cell_type": "markdown",
      "source": [],
      "metadata": {
        "id": "hAPkchIIHKLL"
      }
    }
  ]
}